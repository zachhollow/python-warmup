{
 "cells": [
  {
   "cell_type": "markdown",
   "id": "db8c7119-6aa5-483f-9735-524b2bb4b973",
   "metadata": {},
   "source": [
    "# Basic Python Coding Warmup \n",
    "\n",
    "Libraries needed (only for Warmup 5. Plot Simulated Random NumPy Data using SciPy and Plotly):\n",
    " \n",
    "`pip install numpy`\n",
    "\n",
    "```pip install scipy```"
   ]
  },
  {
   "cell_type": "markdown",
   "id": "d4b7fd74-927b-4f48-b4de-0b728e0d0637",
   "metadata": {},
   "source": [
    "## 1. Hello World! "
   ]
  },
  {
   "cell_type": "code",
   "execution_count": 6,
   "id": "9e3708d9-4a04-466e-9a32-b3435ecbabb5",
   "metadata": {},
   "outputs": [
    {
     "name": "stdout",
     "output_type": "stream",
     "text": [
      "0: hello world!\n",
      "1: hello world!\n",
      "2: hello world!\n",
      "3: hello world!\n",
      "4: hello world!\n"
     ]
    }
   ],
   "source": [
    "class Repeater: \n",
    "    def __new__(cls, *args, **kwargs):\n",
    "        \"\"\"\n",
    "        The Repeater class allows the creation of objects that store a string and a count,\n",
    "        enabling the string to be printed repeatedly according to the specified count.\n",
    "        \n",
    "        This method constructs and returns a new object instance of the Repeater class,\n",
    "        allocates memory for a new instance of the class,\n",
    "        and directs the parent class to perform the creation of the instance.\n",
    "\n",
    "        Parameters:\n",
    "            cls: The class being instantiated. This is automatically\n",
    "                 passed by Python when the method is called.\n",
    "            *args: Additional positional arguments that may be needed \n",
    "                   for instantiation.\n",
    "            **kwargs: Arbitrary keyword arguments that may be used \n",
    "                      for initializing the instance.\n",
    "\n",
    "        Returns:\n",
    "            An instance of the Repeater class.\n",
    "        \"\"\"\n",
    "        object_instance = super().__new__(cls)\n",
    "        return object_instance\n",
    "    \n",
    "    def __init__(self, string: str, count: int):\n",
    "        \"\"\"\n",
    "        Initializes a Repeater object with a string and a count.\n",
    "        \n",
    "        The count specifies how many times the string will be repeated \n",
    "        when the print method is called.\n",
    "        \n",
    "        Parameters:\n",
    "            string (str): The string to be repeated. \n",
    "            count (int): The number of times the string will be printed.\n",
    "        \n",
    "        Notes:\n",
    "            'self' refers to the current instance of the class, \n",
    "            allowing instance variables to be accessible across methods.\n",
    "        \"\"\"\n",
    "        self.string = string  # The string to be repeated\n",
    "        self.n = count  # Number of times the string will be repeated\n",
    "\n",
    "    def print(self) -> None:\n",
    "        \"\"\"\n",
    "        Prints the string n times, where n is the repeat count \n",
    "        defined during object initialization.\n",
    "\n",
    "        Iterates through a range from 0 to n-1 and prints the string \n",
    "        along with the current iteration index.\n",
    "        \"\"\"\n",
    "        for i in range(self.n):\n",
    "            print(f\"{i}: {self.string}\")\n",
    "\n",
    "# Create an object instance of the Repeater class \n",
    "# and define the string (str) and n (int) parameters for this instance\n",
    "repeat = Repeater(\"hello world!\", 5) \n",
    "\n",
    "# Call the print method to display the repeated string\n",
    "repeat.print()"
   ]
  },
  {
   "cell_type": "markdown",
   "id": "1400a759-6fa5-4361-9dbf-d5bcf248924b",
   "metadata": {},
   "source": [
    "## 2. Print All Available Characters"
   ]
  },
  {
   "cell_type": "code",
   "execution_count": 2,
   "id": "6949e704-93f5-439e-9c2c-fa68222d7f9b",
   "metadata": {},
   "outputs": [
    {
     "name": "stdout",
     "output_type": "stream",
     "text": [
      "0123456789abcdefghijklmnopqrstuvwxyzABCDEFGHIJKLMNOPQRSTUVWXYZ!\"#$%&'()*+,-./:;<=>?@[\\]^_`{|}~ \t\n",
      "\u000b",
      "\f",
      "\n"
     ]
    }
   ],
   "source": [
    "import string\n",
    "\n",
    "class PrintableCharacters:\n",
    "    def __init__(self):\n",
    "        self.characters = string.printable\n",
    "\n",
    "    def display(self):\n",
    "        print(self.characters)\n",
    "\n",
    "# Create an instance of the PrintableCharacters class\n",
    "printable_chars_instance = PrintableCharacters()\n",
    "\n",
    "# Display the printable characters\n",
    "printable_chars_instance.display()"
   ]
  },
  {
   "cell_type": "markdown",
   "id": "1fc05ac9-5930-433b-b2d9-778bfffcffca",
   "metadata": {},
   "source": [
    "## 3. Fibonacci numbers module"
   ]
  },
  {
   "cell_type": "code",
   "execution_count": 3,
   "id": "917278bf-f841-47ed-b766-04d7b2a6bf3a",
   "metadata": {},
   "outputs": [
    {
     "name": "stdout",
     "output_type": "stream",
     "text": [
      "0 1 1 2 3 5 8 13 21 34 55 89 \n",
      "Fibonacci series appended as a list:[0, 1, 1, 2, 3, 5, 8, 13, 21, 34, 55, 89]\n"
     ]
    }
   ],
   "source": [
    "# Fibonacci numbers module\n",
    "\n",
    "def fib(n):    # Write Fibonacci series up to n\n",
    "    a, b = 0, 1\n",
    "    while a < n:\n",
    "        print(a, end=' ')\n",
    "        a, b = b, a + b # Same as a = b; b = a + b with the use of a tuple\n",
    "        # Same as creating a tuple (b, a + b), then unpacking it into a and b\n",
    "    print()\n",
    "\n",
    "def fib2(n):   # Return Fibonacci series up to n in a list\n",
    "    result = []\n",
    "    a, b = 0, 1\n",
    "    while a < n:\n",
    "        result.append(a)\n",
    "        a, b = b, a + b\n",
    "    return result\n",
    "\n",
    "x = fib(100)\n",
    "# 0 1 1 2 3 5 8 13 21 34 55 89 \n",
    "x = fib2(100) # Note: dynamic attributes in-use here\n",
    "print(f'Fibonacci series appended as a list:{x}')\n",
    "# Fibonacci series appended as a list:[0, 1, 1, 2, 3, 5, 8, 13, 21, 34, 55, 89]\n",
    "\n",
    "# In Python terminal, you can import this module with the following command:\n",
    "# >>> import fibo\n",
    "# Source: https://docs.python.org/3/tutorial/modules.html"
   ]
  },
  {
   "cell_type": "markdown",
   "id": "1d1050dc-0624-4360-bd43-663c04cfb894",
   "metadata": {},
   "source": [
    "## 4. Intentionally Problem Statement \n",
    "\n",
    "#### Problem Statement:\n",
    "\n",
    "Create a function `f1` which takes two integers, `x` and `y`, and returns the minimum of `x` and the sum of `x` and `y`. \n",
    "\n",
    "Create a class `C` which contains two methods, `g` and `h`, both of which return the string `'hello world'`.\n",
    "\n",
    "Your task is to modify the class `C` so that the function `f1` is called as a method of the class. \n",
    "\n",
    "Implement the class `C` such that:\n",
    "\n",
    "- `f(x, y)` should return the result of `f1(self, x, y)`.\n",
    "- `g()` and `h()` should both return `'hello world'`.\n",
    "\n",
    "#### Constraints:\n",
    "\n",
    "- The values of `x` and `y` are integers such that `-10^9 <= x, y <= 10^9`.\n",
    "- You must define the class method `f` without modifying the function `f1`.\n",
    "\n",
    "#### Example:\n",
    "\n",
    "```python\n",
    "c = C()\n",
    "result1 = c.f(5, 3)\n",
    "print(result1)\n",
    "# printing result1 should return 5, as it's the minimum of 5 and 5+3.\n",
    "\n",
    "result2 = c.g()\n",
    "print(result2)\n",
    "# printing result2 should return \"hello world\"\n",
    "\n",
    "result3 = c.h()\n",
    "print(result3)\n",
    "# printing result3 should also return \"hello world\" \n",
    "```"
   ]
  },
  {
   "cell_type": "code",
   "execution_count": 4,
   "id": "a44e8584-1fdd-4877-b8ac-567ccc30af2f",
   "metadata": {},
   "outputs": [
    {
     "name": "stdout",
     "output_type": "stream",
     "text": [
      "5\n",
      "hello world!\n",
      "hello world!\n"
     ]
    }
   ],
   "source": [
    "# Example soluton: function defined outside the class\n",
    "def f1(self, x, y):\n",
    "    return min(x, x+y)\n",
    "\n",
    "class C:\n",
    "    f = f1\n",
    "\n",
    "    def g(self):\n",
    "        return 'hello world!'\n",
    "\n",
    "    h = g\n",
    "    \n",
    "c = C()\n",
    "result1 = c.f(5, 3)\n",
    "print(result1)\n",
    "\n",
    "result2 = c.g()\n",
    "print(result2)\n",
    "\n",
    "result3 = c.h()\n",
    "print(result3)"
   ]
  },
  {
   "cell_type": "markdown",
   "id": "19da326f-cef6-4b8e-bd6f-1f04dab78210",
   "metadata": {},
   "source": [
    "## 5. Plot Simulated Random NumPy Data using SciPy and Plotly"
   ]
  },
  {
   "cell_type": "code",
   "execution_count": 5,
   "id": "79d83f4a-afbb-4055-85b7-e09fbce02560",
   "metadata": {},
   "outputs": [],
   "source": [
    "# NumPy/SciPy Random Data\n",
    "import numpy as np\n",
    "from scipy.stats import multivariate_normal\n",
    "\n",
    "# Define the desired correlation matrix\n",
    "corr_matrix = np.array([[1.0, 0.7], [0.7, 1.0]]) \n",
    "\n",
    "# Define means and standard deviations for your variables\n",
    "means = [0, 0]\n",
    "stds = [1, 1]\n",
    "\n",
    "# Generate the correlated data\n",
    "data = multivariate_normal.rvs(mean=means, cov=corr_matrix, size=1000) \n",
    "\n",
    "# Access the individual variables\n",
    "var1 = data[:, 0]\n",
    "var2 = data[:, 1]\n",
    "# print(var1)\n",
    "# print(var2)\n",
    "\n",
    "# Plotly Scatter Plot \n",
    "import plotly.graph_objects as go\n",
    "\n",
    "# Create a scatter plot\n",
    "fig = go.Figure(data=go.Scatter(x=var1, y=var2, mode='markers'))\n",
    "\n",
    "# Add title and labels\n",
    "fig.update_layout(title='Scatter Plot of Correlated Data',\n",
    "                  xaxis_title='Variable 1',\n",
    "                  yaxis_title='Variable 2')\n",
    "\n",
    "# Save the figure as a PNG file\n",
    "fig.write_image('Scatter Plot of Correlated Data.png')\n",
    "\n",
    "# Show the plot\n",
    "# fig.show()"
   ]
  }
 ],
 "metadata": {
  "kernelspec": {
   "display_name": "Python 3 (ipykernel)",
   "language": "python",
   "name": "python3"
  },
  "language_info": {
   "codemirror_mode": {
    "name": "ipython",
    "version": 3
   },
   "file_extension": ".py",
   "mimetype": "text/x-python",
   "name": "python",
   "nbconvert_exporter": "python",
   "pygments_lexer": "ipython3",
   "version": "3.10.9"
  }
 },
 "nbformat": 4,
 "nbformat_minor": 5
}
